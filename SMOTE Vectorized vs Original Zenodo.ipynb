{
 "cells": [
  {
   "cell_type": "markdown",
   "metadata": {},
   "source": [
    "# Comparison of SMOTE implementations\n",
    "Replacing \"for loops\" in favor of numpy vectorizations."
   ]
  },
  {
   "cell_type": "code",
   "execution_count": 1,
   "metadata": {},
   "outputs": [],
   "source": [
    "import pandas as pd\n",
    "import matplotlib.pyplot as plt"
   ]
  },
  {
   "cell_type": "code",
   "execution_count": 2,
   "metadata": {},
   "outputs": [],
   "source": [
    "vector = pd.read_pickle('vector.pkl')\n",
    "original = pd.read_pickle('original.pkl')\n",
    "\n",
    "vec_time = vector['Time']\n",
    "vec_stat = vector.drop(columns=['Time'])\n",
    "\n",
    "orig_time = original['Time']\n",
    "orig_stat = original.drop(columns=['Time'])"
   ]
  },
  {
   "cell_type": "code",
   "execution_count": 3,
   "metadata": {},
   "outputs": [
    {
     "data": {
      "text/plain": [
       "True"
      ]
     },
     "execution_count": 3,
     "metadata": {},
     "output_type": "execute_result"
    }
   ],
   "source": [
    "# X_new and y_new are the same values between implementations\n",
    "(vec_stat == orig_stat).all().all()"
   ]
  },
  {
   "cell_type": "code",
   "execution_count": 4,
   "metadata": {},
   "outputs": [
    {
     "data": {
      "text/html": [
       "<div>\n",
       "<style scoped>\n",
       "    .dataframe tbody tr th:only-of-type {\n",
       "        vertical-align: middle;\n",
       "    }\n",
       "\n",
       "    .dataframe tbody tr th {\n",
       "        vertical-align: top;\n",
       "    }\n",
       "\n",
       "    .dataframe thead th {\n",
       "        text-align: right;\n",
       "    }\n",
       "</style>\n",
       "<table border=\"1\" class=\"dataframe\">\n",
       "  <thead>\n",
       "    <tr style=\"text-align: right;\">\n",
       "      <th></th>\n",
       "      <th>Vectorized</th>\n",
       "      <th>Original</th>\n",
       "    </tr>\n",
       "    <tr>\n",
       "      <th>Name</th>\n",
       "      <th></th>\n",
       "      <th></th>\n",
       "    </tr>\n",
       "  </thead>\n",
       "  <tbody>\n",
       "    <tr>\n",
       "      <td>ecoli</td>\n",
       "      <td>0.000962</td>\n",
       "      <td>0.001921</td>\n",
       "    </tr>\n",
       "    <tr>\n",
       "      <td>optical_digits</td>\n",
       "      <td>0.032336</td>\n",
       "      <td>0.048760</td>\n",
       "    </tr>\n",
       "    <tr>\n",
       "      <td>satimage</td>\n",
       "      <td>0.020847</td>\n",
       "      <td>0.039590</td>\n",
       "    </tr>\n",
       "    <tr>\n",
       "      <td>pen_digits</td>\n",
       "      <td>0.015523</td>\n",
       "      <td>0.049146</td>\n",
       "    </tr>\n",
       "    <tr>\n",
       "      <td>abalone</td>\n",
       "      <td>0.003049</td>\n",
       "      <td>0.016018</td>\n",
       "    </tr>\n",
       "    <tr>\n",
       "      <td>sick_euthyroid</td>\n",
       "      <td>0.004610</td>\n",
       "      <td>0.014243</td>\n",
       "    </tr>\n",
       "    <tr>\n",
       "      <td>spectrometer</td>\n",
       "      <td>0.001734</td>\n",
       "      <td>0.003375</td>\n",
       "    </tr>\n",
       "    <tr>\n",
       "      <td>car_eval_34</td>\n",
       "      <td>0.001917</td>\n",
       "      <td>0.007422</td>\n",
       "    </tr>\n",
       "    <tr>\n",
       "      <td>isolet</td>\n",
       "      <td>0.427257</td>\n",
       "      <td>0.434690</td>\n",
       "    </tr>\n",
       "    <tr>\n",
       "      <td>us_crime</td>\n",
       "      <td>0.006522</td>\n",
       "      <td>0.012834</td>\n",
       "    </tr>\n",
       "    <tr>\n",
       "      <td>yeast_ml8</td>\n",
       "      <td>0.008235</td>\n",
       "      <td>0.016041</td>\n",
       "    </tr>\n",
       "    <tr>\n",
       "      <td>scene</td>\n",
       "      <td>0.025173</td>\n",
       "      <td>0.031593</td>\n",
       "    </tr>\n",
       "    <tr>\n",
       "      <td>libras_move</td>\n",
       "      <td>0.001308</td>\n",
       "      <td>0.002357</td>\n",
       "    </tr>\n",
       "    <tr>\n",
       "      <td>thyroid_sick</td>\n",
       "      <td>0.005251</td>\n",
       "      <td>0.017706</td>\n",
       "    </tr>\n",
       "    <tr>\n",
       "      <td>coil_2000</td>\n",
       "      <td>0.035260</td>\n",
       "      <td>0.065270</td>\n",
       "    </tr>\n",
       "    <tr>\n",
       "      <td>arrhythmia</td>\n",
       "      <td>0.002472</td>\n",
       "      <td>0.003752</td>\n",
       "    </tr>\n",
       "    <tr>\n",
       "      <td>solar_flare_m0</td>\n",
       "      <td>0.001712</td>\n",
       "      <td>0.006347</td>\n",
       "    </tr>\n",
       "    <tr>\n",
       "      <td>oil</td>\n",
       "      <td>0.001503</td>\n",
       "      <td>0.004669</td>\n",
       "    </tr>\n",
       "    <tr>\n",
       "      <td>car_eval_4</td>\n",
       "      <td>0.001547</td>\n",
       "      <td>0.007525</td>\n",
       "    </tr>\n",
       "    <tr>\n",
       "      <td>wine_quality</td>\n",
       "      <td>0.002293</td>\n",
       "      <td>0.019060</td>\n",
       "    </tr>\n",
       "    <tr>\n",
       "      <td>letter_img</td>\n",
       "      <td>0.011797</td>\n",
       "      <td>0.082980</td>\n",
       "    </tr>\n",
       "    <tr>\n",
       "      <td>yeast_me2</td>\n",
       "      <td>0.001196</td>\n",
       "      <td>0.006458</td>\n",
       "    </tr>\n",
       "    <tr>\n",
       "      <td>webpage</td>\n",
       "      <td>0.606351</td>\n",
       "      <td>0.684824</td>\n",
       "    </tr>\n",
       "    <tr>\n",
       "      <td>ozone_level</td>\n",
       "      <td>0.003592</td>\n",
       "      <td>0.012688</td>\n",
       "    </tr>\n",
       "    <tr>\n",
       "      <td>mammography</td>\n",
       "      <td>0.003390</td>\n",
       "      <td>0.043820</td>\n",
       "    </tr>\n",
       "    <tr>\n",
       "      <td>protein_homo</td>\n",
       "      <td>0.394313</td>\n",
       "      <td>0.872682</td>\n",
       "    </tr>\n",
       "    <tr>\n",
       "      <td>abalone_19</td>\n",
       "      <td>0.001823</td>\n",
       "      <td>0.017068</td>\n",
       "    </tr>\n",
       "  </tbody>\n",
       "</table>\n",
       "</div>"
      ],
      "text/plain": [
       "                Vectorized  Original\n",
       "Name                                \n",
       "ecoli             0.000962  0.001921\n",
       "optical_digits    0.032336  0.048760\n",
       "satimage          0.020847  0.039590\n",
       "pen_digits        0.015523  0.049146\n",
       "abalone           0.003049  0.016018\n",
       "sick_euthyroid    0.004610  0.014243\n",
       "spectrometer      0.001734  0.003375\n",
       "car_eval_34       0.001917  0.007422\n",
       "isolet            0.427257  0.434690\n",
       "us_crime          0.006522  0.012834\n",
       "yeast_ml8         0.008235  0.016041\n",
       "scene             0.025173  0.031593\n",
       "libras_move       0.001308  0.002357\n",
       "thyroid_sick      0.005251  0.017706\n",
       "coil_2000         0.035260  0.065270\n",
       "arrhythmia        0.002472  0.003752\n",
       "solar_flare_m0    0.001712  0.006347\n",
       "oil               0.001503  0.004669\n",
       "car_eval_4        0.001547  0.007525\n",
       "wine_quality      0.002293  0.019060\n",
       "letter_img        0.011797  0.082980\n",
       "yeast_me2         0.001196  0.006458\n",
       "webpage           0.606351  0.684824\n",
       "ozone_level       0.003592  0.012688\n",
       "mammography       0.003390  0.043820\n",
       "protein_homo      0.394313  0.872682\n",
       "abalone_19        0.001823  0.017068"
      ]
     },
     "execution_count": 4,
     "metadata": {},
     "output_type": "execute_result"
    }
   ],
   "source": [
    "# timeit with 100 trials\n",
    "times = pd.concat([vec_time, orig_time], axis=1) / 100\n",
    "times.columns = ['Vectorized', 'Original']\n",
    "times"
   ]
  },
  {
   "cell_type": "code",
   "execution_count": 5,
   "metadata": {},
   "outputs": [
    {
     "data": {
      "image/png": "[encoded data removed]",
      "text/plain": [
       "<Figure size 1152x720 with 1 Axes>"
      ]
     },
     "metadata": {
      "needs_background": "light"
     },
     "output_type": "display_data"
    }
   ],
   "source": [
    "times.plot.bar(figsize=(16, 10))\n",
    "plt.title('SMOTE Zenodo Average Times')\n",
    "plt.xlabel('Dataset')\n",
    "plt.ylabel('Time (sec)');"
   ]
  },
  {
   "cell_type": "code",
   "execution_count": null,
   "metadata": {},
   "outputs": [],
   "source": []
  }
 ],
 "metadata": {
  "kernelspec": {
   "display_name": "Python 3",
   "language": "python",
   "name": "python3"
  },
  "language_info": {
   "codemirror_mode": {
    "name": "ipython",
    "version": 3
   },
   "file_extension": ".py",
   "mimetype": "text/x-python",
   "name": "python",
   "nbconvert_exporter": "python",
   "pygments_lexer": "ipython3",
   "version": "3.7.3"
  }
 },
 "nbformat": 4,
 "nbformat_minor": 2
}
